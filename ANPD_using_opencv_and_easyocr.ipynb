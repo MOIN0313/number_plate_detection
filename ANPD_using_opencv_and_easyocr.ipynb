{
  "nbformat": 4,
  "nbformat_minor": 0,
  "metadata": {
    "colab": {
      "private_outputs": true,
      "provenance": []
    },
    "kernelspec": {
      "name": "python3",
      "display_name": "Python 3"
    },
    "language_info": {
      "name": "python"
    }
  },
  "cells": [
    {
      "cell_type": "code",
      "execution_count": null,
      "metadata": {
        "id": "DcRNWcLQC9-q"
      },
      "outputs": [],
      "source": [
        "#For this project we need two library\n",
        "#1. opencv to read images those we have\n",
        "# 2. easy ocr to extract text from images"
      ]
    },
    {
      "cell_type": "code",
      "source": [
        "#If you have been working with OpenCV for some time, you should have noticed \n",
        "#that in most scenarios OpenCV utilizes CPU, which doesn’t always guarantee you the desired performance.\n",
        "#To tackle this problem,in 2010 a new module that provides GPU acceleration using CUDA was added to OpenCV.\n",
        "#INSHORT YOU CAN SAY THAT IT USED FOR PARALLEL COMPUTING\n",
        "#or we say use power of grafix of cuda"
      ],
      "metadata": {
        "id": "7JPqIT2LDHPw"
      },
      "execution_count": null,
      "outputs": []
    },
    {
      "cell_type": "code",
      "source": [
        "!nvcc --version\n"
      ],
      "metadata": {
        "id": "cx82gAEnEnnD"
      },
      "execution_count": null,
      "outputs": []
    },
    {
      "cell_type": "code",
      "source": [
        "# we have cuda_version 11.2 so we have to download from pytorch.org.."
      ],
      "metadata": {
        "id": "E5af_LLRGeZb"
      },
      "execution_count": null,
      "outputs": []
    },
    {
      "cell_type": "code",
      "source": [
        "!pip install easyocr\n",
        "# it pretrained model\n",
        "!pip install imutils\n",
        "#it is image processing functions such as translation, rotation, resizing, skeletonization,\n",
        "# displaying Matplotlib images, sorting contours, detecting edges\n",
        "!pip install opencv-python-headless==4.1.2.30\n",
        "#if u not write headless it will be not downloaded in google colab\n",
        "!pip3 install torch torchvision torchaudio --extra-index-url https://download.pytorch.org/whl/cu117"
      ],
      "metadata": {
        "id": "9KO_lqFoHWA-"
      },
      "execution_count": null,
      "outputs": []
    },
    {
      "cell_type": "code",
      "source": [
        "# import all necessaries libraries"
      ],
      "metadata": {
        "id": "DdV7VyVYLzBu"
      },
      "execution_count": null,
      "outputs": []
    },
    {
      "cell_type": "code",
      "source": [
        "import cv2\n",
        "from matplotlib import pyplot as plt\n",
        "import imutils\n",
        "import numpy as np\n",
        "import easyocr\n"
      ],
      "metadata": {
        "id": "yMHH51PML55a"
      },
      "execution_count": null,
      "outputs": []
    },
    {
      "cell_type": "code",
      "source": [
        "#image preprocessing(means converting colored image to gray image"
      ],
      "metadata": {
        "id": "DjL1dCuRMUey"
      },
      "execution_count": null,
      "outputs": []
    },
    {
      "cell_type": "code",
      "source": [
        "img=cv2.imread(\"/content/drive/MyDrive/car_imageeeeeeeee.jpg\")\n",
        "gray=cv2.cvtColor(img,cv2.COLOR_BGR2GRAY)\n",
        "#cv2.cvtColor is for convertor\n",
        "plt.imshow(cv2.cvtColor(gray,cv2.COLOR_BGR2RGB))\n",
        "# for matplotlib expect RGB formate"
      ],
      "metadata": {
        "id": "0XL7mMpXlH6g"
      },
      "execution_count": null,
      "outputs": []
    },
    {
      "cell_type": "code",
      "source": [
        "# Apply filtter and edge detection\n",
        "bfilter=cv2.bilateralFilter(gray,11,11,17) # to reduce noise by bilateralfotler method\n",
        "edged=cv2.Canny(bfilter,30,200) # for edge detection by Canny algorithm\n",
        "plt.imshow(cv2.cvtColor(edged,cv2.COLOR_BAYER_BG2RGB))\n",
        "# again for matplotlib expect RGB formate\n",
        "\n"
      ],
      "metadata": {
        "id": "TZiOTHbujFZT"
      },
      "execution_count": null,
      "outputs": []
    },
    {
      "cell_type": "code",
      "source": [
        "from google.colab import drive\n",
        "drive.mount('/content/drive')"
      ],
      "metadata": {
        "id": "La-x9NuubcwU"
      },
      "execution_count": null,
      "outputs": []
    },
    {
      "cell_type": "code",
      "source": [
        "# find contour and and apply mask\n",
        "## Contours can be explained simply as a curve joining all the continuous points\n",
        "## mask to hide\n",
        "keypoints=cv2.findContours(edged.copy(),cv2.RETR_TREE,cv2.CHAIN_APPROX_SIMPLE)\n",
        "# we know that edged is a numpy array and to copy array we use .copy().it should be binary image\n",
        "# here two important parameter mode,method\n",
        "#The mode cv2.RETR_TREE finds all the promising contour lines and reconstructs a full hierarchy of nested contours.\n",
        "# The method cv2.CHAIN_APPROX_SIMPLE returns only the endpoints that are necessary for drawing the contour line\n",
        "#like aqure and also avoid memory problem\n",
        "contours=imutils.grab_contours(keypoints)\n",
        "contours=sorted(contours,key=cv2.contourArea,reverse=True)[:10]\n",
        "# here we are sorting all contours in decending order"
      ],
      "metadata": {
        "id": "yuZuA2m_3n-i"
      },
      "execution_count": null,
      "outputs": []
    },
    {
      "cell_type": "code",
      "source": [
        "location=None\n",
        "for contour in contours:\n",
        "  apporx=cv2.approxPolyDP(contour,10,True) # \n",
        "  if len(apporx)==4:\n",
        "    location=apporx\n",
        "    break"
      ],
      "metadata": {
        "id": "S_GTJt48c77_"
      },
      "execution_count": null,
      "outputs": []
    },
    {
      "cell_type": "code",
      "source": [
        "location"
      ],
      "metadata": {
        "id": "Jiufcp6fsAd0"
      },
      "execution_count": null,
      "outputs": []
    },
    {
      "cell_type": "code",
      "source": [
        "# now we have to mask unnecessary area\n",
        "mask=np.zeros(gray.shape,np.uint8)\n",
        "new_image=cv2.drawContours(mask,[location],0,255,-1)\n",
        "new_image=cv2.bitwise_and(img,img,mask=mask)"
      ],
      "metadata": {
        "id": "D_QDCeFise7h"
      },
      "execution_count": null,
      "outputs": []
    },
    {
      "cell_type": "code",
      "source": [
        "plt.imshow(cv2.cvtColor(new_image,cv2.COLOR_BGR2RGB))"
      ],
      "metadata": {
        "id": "a7gkkj9LuHH3"
      },
      "execution_count": null,
      "outputs": []
    },
    {
      "cell_type": "code",
      "source": [
        "(x,y)=np.where(mask==255)\n",
        "(x1,y1)=(np.min(x),np.min(y))\n",
        "(x2,y2)=(np.max(x),np.max(y))\n",
        "croped_image=gray[x1:x2+1,y1:y2+1]# 1 for to give little bit buffer\n"
      ],
      "metadata": {
        "id": "Z5nMVgntub-a"
      },
      "execution_count": null,
      "outputs": []
    },
    {
      "cell_type": "code",
      "source": [
        "plt.imshow(cv2.cvtColor(croped_image,cv2.COLOR_BGR2RGB))"
      ],
      "metadata": {
        "id": "Uzn8ebCwxSag"
      },
      "execution_count": null,
      "outputs": []
    },
    {
      "cell_type": "code",
      "source": [
        "# use easy_ocr to read text\n",
        "reader=easyocr.Reader(['en'])  # for english language\n",
        "result=reader.readtext(croped_image)\n",
        "result"
      ],
      "metadata": {
        "id": "9cbIgPiZzRcg"
      },
      "execution_count": null,
      "outputs": []
    },
    {
      "cell_type": "code",
      "source": [
        "# plot the result\n",
        "text=result[0][-2]\n",
        "font=cv2.FONT_HERSHEY_SIMPLEX\n",
        "res = cv2.putText(img, text=text, org=(apporx[0][0][0],apporx[1][0][1]+60), fontface=font,\n",
        "fontScale=1, color=(0,255,0), thickness=2,lineType= cv2.LINE_AA)\n",
        "res = cv2.rectangle(img, tuple(approx[0][0]), tuple(approx[2][0]), (0,255,0),3)\n",
        "plt.imshow(cv2.cvtColor(res,cv2.COLOR_BGR2RGB))\n"
      ],
      "metadata": {
        "id": "WjvYhKYbH-Ej"
      },
      "execution_count": null,
      "outputs": []
    },
    {
      "cell_type": "code",
      "source": [],
      "metadata": {
        "id": "rXy1tnx-LPOR"
      },
      "execution_count": null,
      "outputs": []
    }
  ]
}